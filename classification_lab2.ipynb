{
  "nbformat": 4,
  "nbformat_minor": 0,
  "metadata": {
    "colab": {
      "provenance": []
    },
    "kernelspec": {
      "name": "python3",
      "display_name": "Python 3"
    },
    "language_info": {
      "name": "python"
    }
  },
  "cells": [
    {
      "cell_type": "code",
      "execution_count": null,
      "metadata": {
        "id": "_w5xIPO7fJdW"
      },
      "outputs": [],
      "source": [
        "!pip install langchain_community\n",
        "!pip install replicate"
      ]
    },
    {
      "cell_type": "code",
      "source": [
        "from langchain_community.llms import Replicate\n",
        "import os\n",
        "from google.colab import userdata\n",
        "import time # Import the time module\n",
        "# Establecer el token de API\n",
        "api_token = userdata.get('kikopol')\n",
        "os.environ[\"REPLICATE_API_TOKEN\"] = api_token\n",
        "# Configuración del modelo\n",
        "model = \"ibm-granite/granite-3.3-8b-instruct\"\n",
        "output = Replicate(\n",
        " model=model,\n",
        " replicate_api_token=api_token,\n",
        ")\n",
        "\n",
        "# Definir las reseñas de los clientes\n",
        "customer_reviews = [\n",
        "\"La batería dura todo el día, pero el teléfono se calienta mientras juego.\",\n",
        "\"La pantalla es demasiado oscura en exteriores, pero me encantan los colores en interiores.\",\n",
        "\"Este teléfono es rápido, pero falla cuando abro ciertas aplicaciones.\"\n",
        "]\n",
        "# Refinar la solicitud para incluir reseñas\n",
        "reviews_text = \"\\n\".join([f\"Review {i+1}: {review}\" for i,\n",
        "review in enumerate(customer_reviews)])\n",
        "# Establecer los parámetros del modelo para la formulación de la solicitud con valores predeterminados\n",
        "parameters = {\n",
        " \"top_k\": 1,\n",
        " \"top_p\": 0.5,\n",
        " \"max_tokens\": 3,\n",
        " \"min_tokens\": 1,\n",
        " \"random_seed\": None,\n",
        " \"repetition_penalty\": 1.5,\n",
        " \"stopping_criteria\": \"length\",\n",
        " \"stopping_sequence\": \" \"\n",
        "}\n",
        "# Agregar solicitud inicial\n",
        "refined_prompt = f\"\"\":\n",
        "Clasifica estas reseñas como positivas, negativas o mixtas y\n",
        "etiqueta los aspectos prioritarios pertinentes, como la duración de\n",
        "la batería, la calidad de la pantalla o el rendimiento\n",
        "{reviews_text}\n",
        "\"\"\"\n",
        "# Invocar el modelo\n",
        "respuesta = output.invoke(refined_prompt, parameters=parameters)\n",
        "# Imprimir la respuesta\n",
        "print(\"Granite Model Refined Response:\\n\")\n",
        "print(respuesta)"
      ],
      "metadata": {
        "colab": {
          "base_uri": "https://localhost:8080/"
        },
        "id": "auGE2f6Tffmx",
        "outputId": "a3259642-796f-46cf-a506-35d1e5c574ba"
      },
      "execution_count": null,
      "outputs": [
        {
          "output_type": "stream",
          "name": "stdout",
          "text": [
            "Granite Model Refined Response:\n",
            "\n",
            "Revisión 1:\n",
            "- Clasificación: Mixta\n",
            "- Aspectos prioritarios: Duración de la batería (positivo), sobrecalentamiento (negativo)\n",
            "\n",
            "Revisión 2:\n",
            "- Clasificación: Mixta\n",
            "- Aspectos prioritarios: Calidad de la pantalla en exteriores (negativo), colores de la pantalla en interiores (positivo)\n",
            "\n",
            "Revisión 3:\n",
            "- Clasificación: Mixta\n",
            "- Aspectos prioritarios: Rendimiento general (positivo), fallos específicos de aplicaciones (negativo)\n",
            "\n",
            "Estas clasificaciones se basan en los aspectos positivos y negativos mencionados en cada reseña. Cada reseña presenta una combinación de experiencias positivas y negativas, por lo que se consideran mixtas. Las características prioritarias se identifican según lo expresado en cada revisión.\n"
          ]
        }
      ]
    },
    {
      "cell_type": "code",
      "source": [
        "from langchain_community.llms import Replicate\n",
        "import os\n",
        "from google.colab import userdata\n",
        "import time # Import the time module\n",
        "# Establecer el token de API\n",
        "api_token = userdata.get('kikopol')\n",
        "os.environ[\"REPLICATE_API_TOKEN\"] = api_token\n",
        "# Configuración del modelo\n",
        "model = \"ibm-granite/granite-3.3-8b-instruct\"\n",
        "output = Replicate(\n",
        " model=model,\n",
        " replicate_api_token=api_token,\n",
        ")\n",
        "# Definir las reseñas de los clientes\n",
        "customer_meetings = [\n",
        "\"\"\"\n",
        "La reunión comenzó con una discusión sobre el presupuesto de\n",
        "marketing del tercer trimestre. Se decidió que el 40 % del\n",
        "presupuesto se destinará a anuncios digitales, el 30 % a eventos y\n",
        "el 30 % a campañas en redes sociales. El equipo enfatizó la\n",
        "necesidad de concretar asociaciones con influencers para aumentar\n",
        "la visibilidad de la marca y el marketing por correo electrónico\n",
        "para impulsar la interacción directa. El próximo mes se lanzará un\n",
        "programa piloto para probar nuevos formatos de anuncios y el\n",
        "equipo revisará los resultados a finales del tercer trimestre.\n",
        "Posteriormente, el equipo discutió las métricas de rendimiento de\n",
        "la campaña. El seguimiento del ROI será una máxima prioridad y se\n",
        "realizarán ajustes en función de los datos de rendimiento.\n",
        "El equipo de eventos planteó inquietudes sobre la asignación de\n",
        "recursos para las próximas ferias comerciales y se acordó que se\n",
        "reasignarían $10.000 adicionales para cubrir estos gastos.\n",
        "Por último, el equipo revisó nuevos conceptos creativos para la\n",
        "próxima campaña y decidió continuar con el Concepto 8, que tuvo\n",
        "mejores resultados entre los focus groups. Se ultimaron los plazos\n",
        "para la entrega de los activos de campaña: todos los entregables\n",
        "deben presentarse a más tardar el 15 de julio.\n",
        "\"\"\"\n",
        "]\n",
        "# Refinar la solicitud para incluir reseñas\n",
        "reviews_text = \"\\n\".join([f\"Review {i+1}: {review}\" for i,\n",
        "review in enumerate(customer_meetings)])\n",
        "# Aplicar parámetros predeterminados\n",
        "parameters = {\n",
        "\"top_k\": 10,\n",
        "\"top_p\": 0.9,\n",
        "\"max_tokens\": 20,\n",
        "\"min_tokens\": 0,\n",
        "\"random_seed\": None,\n",
        "\"repetition_penalty\": 1.5,\n",
        "\"stopping_criteria\": \"length (256 tokens)\",\n",
        "\"stopping_sequence\": \" \"\n",
        "}\n",
        "# Solicitud refinada con ejemplo incluido\n",
        "refined_focus_prompt = f\"\"\"\n",
        "Resume esta reunión centrándote en los puntos clave, las\n",
        "decisiones y las acciones pendientes.\n",
        "{reviews_text}\n",
        "\"\"\"\n",
        "# Invocar el modelo con la solicitud de enfoque refinado\n",
        "response = output.invoke(refined_focus_prompt, parameters=parameters)\n",
        "# Imprimir la respuesta\n",
        "print(\"Granite Model Response for refined focus area response:\\n\")\n",
        "print(response)"
      ],
      "metadata": {
        "colab": {
          "base_uri": "https://localhost:8080/"
        },
        "id": "mO_zTyV7l350",
        "outputId": "62903c82-8c9f-4fb1-f223-bf4af113b7ac"
      },
      "execution_count": null,
      "outputs": [
        {
          "output_type": "stream",
          "name": "stdout",
          "text": [
            "Granite Model Response for refined focus area response:\n",
            "\n",
            "Puntos clave:\n",
            "\n",
            "1. Allocation del presupuesto de marketing para el TQ3: 40% para anuncios digitales, 30% para eventos y 30% para campañas en redes sociales.\n",
            "2. Estratégica de colaboración con influencers y marketing por correo electrónico para aumentar la interacción y visibilidad de la marca.\n",
            "3. Lanzamiento de un programa piloto para probar nuevos formatos de anuncios en el próximo mes, con una revisión de los resultados a finales del TQ3.\n",
            "4. Enfoque en el ROI y ajustes basados en métricas de rendimiento.\n",
            "5. Reasignación de $10,000 adicionales para los próximos eventos comerciales debido a las preocupaciones del equipo de eventos sobre la asignación de recursos.\n",
            "6. Selección del Concepto 8 para la próxima campaña de marketing, basado en los mejores resultados de los grupos focales.\n",
            "7. Plazos para entrega de activos de campaña: todos los materiales deben estar listos para el 15 de julio.\n",
            "\n",
            "Decisiones:\n",
            "\n",
            "1. Asignación del presupuesto de marketing.\n",
            "2. Colaboración con influencers y enfoque en el marketing por correo electrónico.\n",
            "3. Implementación de un programa piloto para probar nuevos formatos de anuncios.\n",
            "4. Reasignación de fondos adicionales para eventos comerciales.\n",
            "5. Selección del Concepto 8 para la próxima campaña.\n",
            "6. Establecimiento de un plazo de entrega para activos de campaña (15 de julio).\n",
            "\n",
            "Acciones pendientes:\n",
            "\n",
            "1. Monitorear y analizar los resultados del programa piloto para tomar decisiones basadas en datos de rendimiento y ajustar la estrategia de marketing según sea necesario.\n",
            "2. Supervisar el progreso de la preparación de activos de campaña y garantizar que todos los materiales se ent\n"
          ]
        }
      ]
    }
  ]
}